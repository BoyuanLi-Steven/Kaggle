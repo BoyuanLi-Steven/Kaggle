{
 "cells": [
  {
   "cell_type": "markdown",
   "metadata": {
    "_uuid": "7752ec61a2320d488ff45952a766d6af13903433"
   },
   "source": [
    "# 1 Introduction\n",
    "In this kernal I will dig into the data sources using seaborn for visualizations and pandas for aggregations, and at the end I will produce a submission file for Stage 1. The submission deadline for this contest is notourious for creeping up on the contestents, which happened to me last year when I missed the deadline and was not able to submit my predictions. One other important note about this competition is that this is not like the usaual March Madness brackets going around work where you pick your winners for each round, since you are providing the likelyhood of Team 1 winning for every possible match up if the team you pick looses you are stil in the game.  Also, since this is log loss, if you use 0 or 1 for one of you predictions and are wrong, your loss will go to infinity. \n",
    "\n",
    "# 2 Libraries\n",
    "Kaggle starts you off with the numpy, pandas and os librarys for this kernal. I will also be using matplotlib and seaborn for plotting; sklearn functions for data processing and xgboost for the model. These are all pretty standard librarys for kaggle competitions, so nothing exiting here.\n",
    "\n",
    "<img src=\"https://goo.gl/images/GNCCmP\">"
   ]
  },
  {
   "cell_type": "code",
   "execution_count": 1,
   "metadata": {
    "_cell_guid": "b1076dfc-b9ad-4769-8c92-a6c4dae69d19",
    "_uuid": "8f2839f25d086af736a60e9eeb907d3b93b6e0e5"
   },
   "outputs": [],
   "source": [
    "import matplotlib.pyplot as plt\n",
    "import numpy as np # linear algebra\n",
    "import os\n",
    "import pandas as pd # data processing, CSV file I/O (e.g. pd.read_csv)\n",
    "import seaborn as sns\n",
    "from sklearn.preprocessing import LabelEncoder\n",
    "from sklearn.model_selection import train_test_split\n",
    "from sklearn.metrics import log_loss\n",
    "import warnings\n",
    "from xgboost import XGBClassifier\n",
    "warnings.filterwarnings(\"ignore\")"
   ]
  },
  {
   "cell_type": "markdown",
   "metadata": {
    "_uuid": "ccedabf21c8aa90775f28fb0a4dee5c5fb6e9783"
   },
   "source": [
    "# 3 Data Exploration\n",
    "Wow, there are a lot of files available for this contest. It looks like everything is stored in .csv format, so it should be pretty easy to load with pandas `pd.read_csv` function. I used f-strings with list comprehensions below to print out the files provided in each of the folders.. "
   ]
  },
  {
   "cell_type": "code",
   "execution_count": 2,
   "metadata": {
    "_kg_hide-input": true,
    "_uuid": "758b8e347d940cf85c70ae038bc46f708f497a9a"
   },
   "outputs": [
    {
     "name": "stdout",
     "output_type": "stream",
     "text": [
      "Files in ../input: ['SampleSubmissionStage1.csv']\n",
      "\n",
      "Folders in ../input: ['playbyplay_2012', 'playbyplay_2015', 'playbyplay_2018', 'playbyplay_2017', 'datafiles', 'playbyplay_2010', 'playbyplay_2013', 'playbyplay_2014', 'playbyplay_2016', 'masseyordinals', 'playbyplay_2011']\n",
      "\n",
      "Files in representative playbyplay folder: ['Players_2012.csv', 'Events_2012.csv']\n",
      "\n",
      "Files in datafiles folder: ['Seasons.csv', 'NCAATourneyDetailedResults.csv', 'Conferences.csv', 'NCAATourneySeedRoundSlots.csv', 'TeamConferences.csv', 'GameCities.csv', 'TeamSpellings.csv', 'NCAATourneySlots.csv', 'SecondaryTourneyTeams.csv', 'NCAATourneySeeds.csv', 'RegularSeasonCompactResults.csv', 'ConferenceTourneyGames.csv', 'TeamCoaches.csv', 'Teams.csv', 'NCAATourneyCompactResults.csv', 'Cities.csv', 'SecondaryTourneyCompactResults.csv', 'RegularSeasonDetailedResults.csv']\n",
      "\n",
      "Files in masseyordinals folder: ['MasseyOrdinals.csv']\n"
     ]
    }
   ],
   "source": [
    "ipfl = os.listdir(\"../input\")\n",
    "ipfls = [x for x in ipfl if '.' in x]\n",
    "ipfds = [x for x in ipfl if '.' not in x]\n",
    "print(f'Files in ../input: {ipfls}\\n')\n",
    "print(f'Folders in ../input: {ipfds}\\n')\n",
    "pbpfl = os.listdir(\"../input/playbyplay_2012\")\n",
    "print(f'Files in representative playbyplay folder: {pbpfl}\\n')\n",
    "dfs = os.listdir(\"../input/datafiles\")\n",
    "print(f'Files in datafiles folder: {dfs}\\n')\n",
    "mofl = os.listdir(\"../input/masseyordinals\")\n",
    "print(f'Files in masseyordinals folder: {mofl}')"
   ]
  },
  {
   "cell_type": "markdown",
   "metadata": {
    "_uuid": "114230316e23244380f95c3a2c8d6970cfbd85c2"
   },
   "source": [
    "In this section I will go through most of the files give my thoughs on how the data can be used. I will also create a few visulizations for some of the more interesting and potentaily useful files. \n",
    "\n",
    "## 3.1 Sample Submission File \n",
    "First I like to find out what the submission will look like. I can do this by taking a look at the `SampleSubmissionStage1.csv` file. Since the comp is currently in Stage 1, the sample submission file includes all potential match ups for the 2014 through 2018 tournements. The 0.5 in Pred column cells indicates a 50/50 percent chance of either team winning; for the competition a zero means that team 1 wins and a 0 means that team 2 wins. The format of the ID column is year, team one (lower id), then team two (higher id) seperated by an underscore."
   ]
  },
  {
   "cell_type": "code",
   "execution_count": 3,
   "metadata": {
    "_uuid": "71c5bed1d7a324de911033a3a6cf0fc3a8f79dc8"
   },
   "outputs": [
    {
     "data": {
      "text/html": [
       "<div>\n",
       "<style scoped>\n",
       "    .dataframe tbody tr th:only-of-type {\n",
       "        vertical-align: middle;\n",
       "    }\n",
       "\n",
       "    .dataframe tbody tr th {\n",
       "        vertical-align: top;\n",
       "    }\n",
       "\n",
       "    .dataframe thead th {\n",
       "        text-align: right;\n",
       "    }\n",
       "</style>\n",
       "<table border=\"1\" class=\"dataframe\">\n",
       "  <thead>\n",
       "    <tr style=\"text-align: right;\">\n",
       "      <th></th>\n",
       "      <th>ID</th>\n",
       "      <th>Pred</th>\n",
       "    </tr>\n",
       "  </thead>\n",
       "  <tbody>\n",
       "    <tr>\n",
       "      <th>11387</th>\n",
       "      <td>2018_1455_1460</td>\n",
       "      <td>0.5</td>\n",
       "    </tr>\n",
       "    <tr>\n",
       "      <th>11388</th>\n",
       "      <td>2018_1455_1462</td>\n",
       "      <td>0.5</td>\n",
       "    </tr>\n",
       "    <tr>\n",
       "      <th>11389</th>\n",
       "      <td>2018_1460_1462</td>\n",
       "      <td>0.5</td>\n",
       "    </tr>\n",
       "  </tbody>\n",
       "</table>\n",
       "</div>"
      ],
      "text/plain": [
       "                   ID  Pred\n",
       "11387  2018_1455_1460   0.5\n",
       "11388  2018_1455_1462   0.5\n",
       "11389  2018_1460_1462   0.5"
      ]
     },
     "execution_count": 3,
     "metadata": {},
     "output_type": "execute_result"
    }
   ],
   "source": [
    "sub = pd.read_csv('../input/SampleSubmissionStage1.csv')\n",
    "sub.tail(3)"
   ]
  },
  {
   "cell_type": "markdown",
   "metadata": {
    "_uuid": "67b0aba655557b96c5c2775d9d4a8032b983aca8"
   },
   "source": [
    "## 3.2 Play by Play files\n",
    "In each play by play folder there are two files; `Players_####.csv` and `Events_####.csv`. I took a look at the data in 2014 since the Stage 1 model building will be judged on models from this year. I took a look at the amount of data using the `pd.DataFrame.shape` attribute, then used the `pd.DataFrame.head()` method to look at the columns and a few values. I made a bar graph of events by winners and loosers to summarize the events data. There was not a whole lot to look at in the players file, so no graphs."
   ]
  },
  {
   "cell_type": "code",
   "execution_count": 4,
   "metadata": {
    "_uuid": "c86f501fadf971b7a3fdc818ae05e05f1d007669"
   },
   "outputs": [
    {
     "name": "stdout",
     "output_type": "stream",
     "text": [
      "The events dataframe contains data from the Events_2014.csv file and is 2613207 rows by 11 \n",
      "columns. The players dataframe contains the data from the Players_2014.csv file and is 5406 rows by 4 \n",
      "rows.\n"
     ]
    }
   ],
   "source": [
    "fl_2014 = '../input/playbyplay_2014/'\n",
    "events = pd.read_csv(f'{fl_2014}Events_2014.csv')\n",
    "players = pd.read_csv(f'{fl_2014}Players_2014.csv')\n",
    "print(f'The events dataframe contains data from the Events_2014.csv file and is {events.shape[0]}'\n",
    "      f' rows by {events.shape[1]} \\ncolumns. The players dataframe contains the data from '\n",
    "      f'the Players_2014.csv file and is {players.shape[0]} rows by {players.shape[1]} \\nrows.')"
   ]
  },
  {
   "cell_type": "code",
   "execution_count": 5,
   "metadata": {
    "_uuid": "560345ce3f437f357de71d8e0b4512d6aa48934d"
   },
   "outputs": [
    {
     "data": {
      "text/html": [
       "<div>\n",
       "<style scoped>\n",
       "    .dataframe tbody tr th:only-of-type {\n",
       "        vertical-align: middle;\n",
       "    }\n",
       "\n",
       "    .dataframe tbody tr th {\n",
       "        vertical-align: top;\n",
       "    }\n",
       "\n",
       "    .dataframe thead th {\n",
       "        text-align: right;\n",
       "    }\n",
       "</style>\n",
       "<table border=\"1\" class=\"dataframe\">\n",
       "  <thead>\n",
       "    <tr style=\"text-align: right;\">\n",
       "      <th></th>\n",
       "      <th>EventID</th>\n",
       "      <th>Season</th>\n",
       "      <th>DayNum</th>\n",
       "      <th>WTeamID</th>\n",
       "      <th>LTeamID</th>\n",
       "      <th>WPoints</th>\n",
       "      <th>LPoints</th>\n",
       "      <th>ElapsedSeconds</th>\n",
       "      <th>EventTeamID</th>\n",
       "      <th>EventPlayerID</th>\n",
       "      <th>EventType</th>\n",
       "    </tr>\n",
       "  </thead>\n",
       "  <tbody>\n",
       "    <tr>\n",
       "      <th>0</th>\n",
       "      <td>10090542</td>\n",
       "      <td>2014</td>\n",
       "      <td>4</td>\n",
       "      <td>1102</td>\n",
       "      <td>1119</td>\n",
       "      <td>0</td>\n",
       "      <td>2</td>\n",
       "      <td>13</td>\n",
       "      <td>1119</td>\n",
       "      <td>621301</td>\n",
       "      <td>made2_jump</td>\n",
       "    </tr>\n",
       "    <tr>\n",
       "      <th>1</th>\n",
       "      <td>10090543</td>\n",
       "      <td>2014</td>\n",
       "      <td>4</td>\n",
       "      <td>1102</td>\n",
       "      <td>1119</td>\n",
       "      <td>0</td>\n",
       "      <td>0</td>\n",
       "      <td>32</td>\n",
       "      <td>1102</td>\n",
       "      <td>621053</td>\n",
       "      <td>turnover</td>\n",
       "    </tr>\n",
       "    <tr>\n",
       "      <th>2</th>\n",
       "      <td>10090544</td>\n",
       "      <td>2014</td>\n",
       "      <td>4</td>\n",
       "      <td>1102</td>\n",
       "      <td>1119</td>\n",
       "      <td>0</td>\n",
       "      <td>0</td>\n",
       "      <td>44</td>\n",
       "      <td>1119</td>\n",
       "      <td>621301</td>\n",
       "      <td>miss3_jump</td>\n",
       "    </tr>\n",
       "  </tbody>\n",
       "</table>\n",
       "</div>"
      ],
      "text/plain": [
       "    EventID  Season  DayNum     ...      EventTeamID  EventPlayerID   EventType\n",
       "0  10090542    2014       4     ...             1119         621301  made2_jump\n",
       "1  10090543    2014       4     ...             1102         621053    turnover\n",
       "2  10090544    2014       4     ...             1119         621301  miss3_jump\n",
       "\n",
       "[3 rows x 11 columns]"
      ]
     },
     "execution_count": 5,
     "metadata": {},
     "output_type": "execute_result"
    }
   ],
   "source": [
    "events.head(3)"
   ]
  },
  {
   "cell_type": "code",
   "execution_count": 6,
   "metadata": {
    "_uuid": "c7aedbc1eb17e79da3672c6f45e00f16fe2feeb8"
   },
   "outputs": [
    {
     "data": {
      "text/html": [
       "<div>\n",
       "<style scoped>\n",
       "    .dataframe tbody tr th:only-of-type {\n",
       "        vertical-align: middle;\n",
       "    }\n",
       "\n",
       "    .dataframe tbody tr th {\n",
       "        vertical-align: top;\n",
       "    }\n",
       "\n",
       "    .dataframe thead th {\n",
       "        text-align: right;\n",
       "    }\n",
       "</style>\n",
       "<table border=\"1\" class=\"dataframe\">\n",
       "  <thead>\n",
       "    <tr style=\"text-align: right;\">\n",
       "      <th></th>\n",
       "      <th>PlayerID</th>\n",
       "      <th>Season</th>\n",
       "      <th>TeamID</th>\n",
       "      <th>PlayerName</th>\n",
       "    </tr>\n",
       "  </thead>\n",
       "  <tbody>\n",
       "    <tr>\n",
       "      <th>0</th>\n",
       "      <td>621026</td>\n",
       "      <td>2014</td>\n",
       "      <td>1101</td>\n",
       "      <td>BLAKELEY_CHRIS</td>\n",
       "    </tr>\n",
       "    <tr>\n",
       "      <th>1</th>\n",
       "      <td>621027</td>\n",
       "      <td>2014</td>\n",
       "      <td>1101</td>\n",
       "      <td>COOKE_AUSTIN</td>\n",
       "    </tr>\n",
       "    <tr>\n",
       "      <th>2</th>\n",
       "      <td>621028</td>\n",
       "      <td>2014</td>\n",
       "      <td>1101</td>\n",
       "      <td>EDMONDSON_JULIAN</td>\n",
       "    </tr>\n",
       "  </tbody>\n",
       "</table>\n",
       "</div>"
      ],
      "text/plain": [
       "   PlayerID  Season  TeamID        PlayerName\n",
       "0    621026    2014    1101    BLAKELEY_CHRIS\n",
       "1    621027    2014    1101      COOKE_AUSTIN\n",
       "2    621028    2014    1101  EDMONDSON_JULIAN"
      ]
     },
     "execution_count": 6,
     "metadata": {},
     "output_type": "execute_result"
    }
   ],
   "source": [
    "players.head(3)"
   ]
  },
  {
   "cell_type": "code",
   "execution_count": 7,
   "metadata": {
    "_uuid": "23eeaa4ce3dc1009f10ef6c1ea15b72432612421"
   },
   "outputs": [
    {
     "data": {
      "image/png": "[encoded data removed]",
      "text/plain": [
       "<Figure size 720x504 with 1 Axes>"
      ]
     },
     "metadata": {},
     "output_type": "display_data"
    }
   ],
   "source": [
    "## The pandas Series.value_counts() method returns a pd.Sereis object with value counts for each unique\n",
    "## value in a pd.Series. \n",
    "\n",
    "# seperate data into winners and loosers\n",
    "winners = events[events['EventTeamID'] == events['WTeamID']] \n",
    "loosers = events[events['EventTeamID'] != events['WTeamID']]\n",
    "val_wnrs = winners.EventType.value_counts().sort_values(ascending=True).to_frame()\n",
    "val_lsrs = loosers.EventType.value_counts().sort_values(ascending=True).to_frame()\n",
    "\n",
    "# stack the data for plotting with seaborn\n",
    "totals = val_wnrs.merge(val_lsrs, right_index=True, left_index=True, suffixes=['_w', '_l']\n",
    "                       ).sort_values(by='EventType_w', ascending=False)\n",
    "totals.rename(columns={'EventType_w':'winner', 'EventType_l':'looser'}, inplace=True)\n",
    "tts = totals.stack().reset_index()\n",
    "tts.columns = ['event', 'win', 'count']\n",
    "\n",
    "## plot data\n",
    "plt.figure(figsize=(10,7))\n",
    "sns.barplot(x='count', y='event', hue='win', data=tts, orient='h')\n",
    "plt.title('2014 Events by Winners and Loosers', size=15)\n",
    "plt.show()"
   ]
  },
  {
   "cell_type": "markdown",
   "metadata": {
    "_uuid": "a04c5a878f881451978907effc7180a5c37cb1e3"
   },
   "source": [
    "## 3.3 Datafiles Files\n",
    "There are a ton of files in the `datafiles` folder so I used a dictionary to store them all. I used list comprehensions to create the names and paths in order to load all of the files using pandas `pd.read_csv` function. The standard `pd.read_csv` worked for all of the files except for TeamSpellings. I will start with `RegularSeasonDetailedResults.csv` as this will likely be the most impactfull dat for an initial model and go from there. "
   ]
  },
  {
   "cell_type": "code",
   "execution_count": 8,
   "metadata": {
    "_uuid": "8d9fbec95928dafddb08db0eafadc70cc0434dab"
   },
   "outputs": [],
   "source": [
    "df_fdr = '../input/datafiles/'"
   ]
  },
  {
   "cell_type": "code",
   "execution_count": 9,
   "metadata": {
    "_uuid": "77ba66e2b4c1f1502bf0be2f8f7870518c101eff"
   },
   "outputs": [
    {
     "name": "stdout",
     "output_type": "stream",
     "text": [
      "TeamSpellings did not load\n"
     ]
    }
   ],
   "source": [
    "files = os.listdir(df_fdr)\n",
    "names = [x.split('.')[0] for x in files]\n",
    "path_list = [f'{df_fdr}{x}' for x in files]\n",
    "df_dict = {}\n",
    "for num, name in enumerate(names):\n",
    "    try:\n",
    "        df_dict[name] = pd.read_csv(path_list[num])\n",
    "    except:\n",
    "        print(f'{name} did not load')"
   ]
  },
  {
   "cell_type": "code",
   "execution_count": 10,
   "metadata": {
    "_uuid": "9d4b22593d973d96ae06439876832c213692cdf3"
   },
   "outputs": [
    {
     "name": "stdout",
     "output_type": "stream",
     "text": [
      "Summary of files:\n",
      "___________________________\n",
      "Seasons: (35, 6)\n",
      "NCAATourneyDetailedResults: (1048, 34)\n",
      "Conferences: (51, 2)\n",
      "NCAATourneySeedRoundSlots: (720, 5)\n",
      "TeamConferences: (11241, 3)\n",
      "GameCities: (49235, 6)\n",
      "NCAATourneySlots: (2184, 4)\n",
      "SecondaryTourneyTeams: (1568, 3)\n",
      "NCAATourneySeeds: (2218, 3)\n",
      "RegularSeasonCompactResults: (156089, 8)\n",
      "ConferenceTourneyGames: (4861, 5)\n",
      "TeamCoaches: (10994, 5)\n",
      "Teams: (366, 4)\n",
      "NCAATourneyCompactResults: (2184, 8)\n",
      "Cities: (421, 3)\n",
      "SecondaryTourneyCompactResults: (1551, 9)\n",
      "RegularSeasonDetailedResults: (82041, 34)\n"
     ]
    }
   ],
   "source": [
    "print('Summary of files:\\n___________________________')\n",
    "for name, df in df_dict.items():\n",
    "    print(f'{name}: {df.shape}')"
   ]
  },
  {
   "cell_type": "markdown",
   "metadata": {
    "_uuid": "ce46b459445792ef7d150721fc3e7c150a86fba9"
   },
   "source": [
    "The team seeds are likely the most important feature (and take the least processing) so I will use them for my model. I created a seed_num and seed_letter column since the letter is likely a categorical feature and the number would be considered continuous since the quantity matters."
   ]
  },
  {
   "cell_type": "code",
   "execution_count": 11,
   "metadata": {
    "_uuid": "3e862f7695b3febadbb1ebe333cede8bafb87f5f"
   },
   "outputs": [
    {
     "data": {
      "text/html": [
       "<div>\n",
       "<style scoped>\n",
       "    .dataframe tbody tr th:only-of-type {\n",
       "        vertical-align: middle;\n",
       "    }\n",
       "\n",
       "    .dataframe tbody tr th {\n",
       "        vertical-align: top;\n",
       "    }\n",
       "\n",
       "    .dataframe thead th {\n",
       "        text-align: right;\n",
       "    }\n",
       "</style>\n",
       "<table border=\"1\" class=\"dataframe\">\n",
       "  <thead>\n",
       "    <tr style=\"text-align: right;\">\n",
       "      <th></th>\n",
       "      <th>Season</th>\n",
       "      <th>Seed</th>\n",
       "      <th>TeamID</th>\n",
       "      <th>seed_num</th>\n",
       "      <th>seed_letter</th>\n",
       "    </tr>\n",
       "  </thead>\n",
       "  <tbody>\n",
       "    <tr>\n",
       "      <th>0</th>\n",
       "      <td>1985</td>\n",
       "      <td>W01</td>\n",
       "      <td>1207</td>\n",
       "      <td>1</td>\n",
       "      <td>W</td>\n",
       "    </tr>\n",
       "    <tr>\n",
       "      <th>1</th>\n",
       "      <td>1985</td>\n",
       "      <td>W02</td>\n",
       "      <td>1210</td>\n",
       "      <td>2</td>\n",
       "      <td>W</td>\n",
       "    </tr>\n",
       "    <tr>\n",
       "      <th>2</th>\n",
       "      <td>1985</td>\n",
       "      <td>W03</td>\n",
       "      <td>1228</td>\n",
       "      <td>3</td>\n",
       "      <td>W</td>\n",
       "    </tr>\n",
       "  </tbody>\n",
       "</table>\n",
       "</div>"
      ],
      "text/plain": [
       "   Season Seed  TeamID  seed_num seed_letter\n",
       "0    1985  W01    1207         1           W\n",
       "1    1985  W02    1210         2           W\n",
       "2    1985  W03    1228         3           W"
      ]
     },
     "execution_count": 11,
     "metadata": {},
     "output_type": "execute_result"
    }
   ],
   "source": [
    "seeds = df_dict.pop('NCAATourneySeeds') # This can only be run once.\n",
    "seeds['seed_num'] = seeds.Seed.apply(lambda x: int(x[1:3]))\n",
    "seeds['seed_letter'] = seeds.Seed.apply(lambda x: x[0])\n",
    "seeds.head(3)"
   ]
  },
  {
   "cell_type": "markdown",
   "metadata": {
    "_uuid": "7cd7207d2415e48cd264b9ece380a149e1370c88"
   },
   "source": [
    "The `NCAATourneyCompactResults` file contains the target data for model building. So I will do a little processing to make the lookups possible from the `seeds` data frame and to make the target consitant with what is in the `SampleSubmission` file. "
   ]
  },
  {
   "cell_type": "code",
   "execution_count": 12,
   "metadata": {
    "_uuid": "c3721a3ec06a57e8a38f4023d549a2b0ac0c71f7"
   },
   "outputs": [
    {
     "data": {
      "text/html": [
       "<div>\n",
       "<style scoped>\n",
       "    .dataframe tbody tr th:only-of-type {\n",
       "        vertical-align: middle;\n",
       "    }\n",
       "\n",
       "    .dataframe tbody tr th {\n",
       "        vertical-align: top;\n",
       "    }\n",
       "\n",
       "    .dataframe thead th {\n",
       "        text-align: right;\n",
       "    }\n",
       "</style>\n",
       "<table border=\"1\" class=\"dataframe\">\n",
       "  <thead>\n",
       "    <tr style=\"text-align: right;\">\n",
       "      <th></th>\n",
       "      <th>Season</th>\n",
       "      <th>DayNum</th>\n",
       "      <th>WTeamID</th>\n",
       "      <th>WScore</th>\n",
       "      <th>LTeamID</th>\n",
       "      <th>LScore</th>\n",
       "      <th>WLoc</th>\n",
       "      <th>NumOT</th>\n",
       "      <th>Team1</th>\n",
       "      <th>Team2</th>\n",
       "      <th>target</th>\n",
       "    </tr>\n",
       "  </thead>\n",
       "  <tbody>\n",
       "    <tr>\n",
       "      <th>0</th>\n",
       "      <td>1985</td>\n",
       "      <td>136</td>\n",
       "      <td>1116</td>\n",
       "      <td>63</td>\n",
       "      <td>1234</td>\n",
       "      <td>54</td>\n",
       "      <td>N</td>\n",
       "      <td>0</td>\n",
       "      <td>1116</td>\n",
       "      <td>1234</td>\n",
       "      <td>1</td>\n",
       "    </tr>\n",
       "    <tr>\n",
       "      <th>1</th>\n",
       "      <td>1985</td>\n",
       "      <td>136</td>\n",
       "      <td>1120</td>\n",
       "      <td>59</td>\n",
       "      <td>1345</td>\n",
       "      <td>58</td>\n",
       "      <td>N</td>\n",
       "      <td>0</td>\n",
       "      <td>1120</td>\n",
       "      <td>1345</td>\n",
       "      <td>1</td>\n",
       "    </tr>\n",
       "    <tr>\n",
       "      <th>2</th>\n",
       "      <td>1985</td>\n",
       "      <td>136</td>\n",
       "      <td>1207</td>\n",
       "      <td>68</td>\n",
       "      <td>1250</td>\n",
       "      <td>43</td>\n",
       "      <td>N</td>\n",
       "      <td>0</td>\n",
       "      <td>1207</td>\n",
       "      <td>1250</td>\n",
       "      <td>1</td>\n",
       "    </tr>\n",
       "  </tbody>\n",
       "</table>\n",
       "</div>"
      ],
      "text/plain": [
       "   Season  DayNum  WTeamID  WScore   ...    NumOT  Team1 Team2  target\n",
       "0    1985     136     1116      63   ...        0   1116  1234       1\n",
       "1    1985     136     1120      59   ...        0   1120  1345       1\n",
       "2    1985     136     1207      68   ...        0   1207  1250       1\n",
       "\n",
       "[3 rows x 11 columns]"
      ]
     },
     "execution_count": 12,
     "metadata": {},
     "output_type": "execute_result"
    }
   ],
   "source": [
    "tcr = df_dict.pop('NCAATourneyCompactResults') # This can only be run once.\n",
    "tcr['Team1'] = np.where((tcr.WTeamID < tcr.LTeamID), tcr.WTeamID, tcr.LTeamID)\n",
    "tcr['Team2'] = np.where((tcr.WTeamID > tcr.LTeamID), tcr.WTeamID, tcr.LTeamID)\n",
    "tcr['target'] = np.where((tcr['WTeamID'] < tcr['LTeamID']),1,0)\n",
    "tcr.head(3)"
   ]
  },
  {
   "cell_type": "code",
   "execution_count": 13,
   "metadata": {
    "_uuid": "1b4840f3a83973c04cbe35274992fba43037cbd6"
   },
   "outputs": [],
   "source": [
    "tcr_grouped = tcr.groupby('WTeamID')['Season'].count()\n",
    "winners = tcr_grouped.sort_values(ascending=False).iloc[:20]"
   ]
  },
  {
   "cell_type": "code",
   "execution_count": 14,
   "metadata": {
    "_uuid": "d664753342b87b0ef2d823188b8653cc7e776957"
   },
   "outputs": [],
   "source": [
    "teams = df_dict.pop(\"Teams\")\n",
    "winners = winners.to_frame().merge(teams[['TeamID', 'TeamName']], how='left', left_index=True, right_on='TeamID')"
   ]
  },
  {
   "cell_type": "code",
   "execution_count": 15,
   "metadata": {
    "_uuid": "bf8c392116e48a26dadb26c95e215cef6da6fbf7"
   },
   "outputs": [
    {
     "data": {
      "image/png": "[encoded data removed]",
      "text/plain": [
       "<Figure size 720x432 with 1 Axes>"
      ]
     },
     "metadata": {},
     "output_type": "display_data"
    }
   ],
   "source": [
    "plt.figure(figsize=(10,6))\n",
    "sns.barplot(y=winners.TeamName, x=winners.Season, orient='h', color='b')\n",
    "plt.xlabel('Wins')\n",
    "plt.ylabel('Team Name')\n",
    "plt.title('Most Wins since 1985', size=20)\n",
    "plt.show()"
   ]
  },
  {
   "cell_type": "markdown",
   "metadata": {
    "_uuid": "118083044c1df045b7f359f7cef56af8cf3911df"
   },
   "source": [
    "# 4 Model Building\n",
    "Now that I have identified and processed some usefull data, I will build a simple model. The first thing that I will need to do is set up the training and validation data using the `pd.DataFrame.merge()` method. Then I will seperate out a train and a test set, then I will train my model and finaly predict on the target test set."
   ]
  },
  {
   "cell_type": "code",
   "execution_count": 16,
   "metadata": {
    "_uuid": "3616b5294528cf671caa366181d41530cc2c1338"
   },
   "outputs": [],
   "source": [
    "def add_features(df, seeds=seeds):\n",
    "    df = df.merge(seeds, how='left', left_on=['Season', 'Team1'], right_on=['Season', 'TeamID'])\n",
    "    df = df.merge(seeds, how='left', left_on=['Season', 'Team2'], right_on=['Season', 'TeamID'], \n",
    "          suffixes=('Team1', 'Team2'))\n",
    "    \n",
    "    # encode the seed letters for both teams using the same LabelEncoder\n",
    "    lb = LabelEncoder()\n",
    "    df['seed_letterTeam1'] = lb.fit_transform(df['seed_letterTeam1'])\n",
    "    df['seed_letterTeam2'] = lb.transform(df['seed_letterTeam2'])\n",
    "    return df"
   ]
  },
  {
   "cell_type": "code",
   "execution_count": 17,
   "metadata": {
    "_uuid": "976b85a2c8d82aaafaaf351be207f63733f9ed2f"
   },
   "outputs": [],
   "source": [
    "tcr_ = add_features(tcr)"
   ]
  },
  {
   "cell_type": "code",
   "execution_count": 18,
   "metadata": {
    "_uuid": "06c5da1c415faef793186bd4e7286603fceb03f2"
   },
   "outputs": [
    {
     "data": {
      "text/html": [
       "<div>\n",
       "<style scoped>\n",
       "    .dataframe tbody tr th:only-of-type {\n",
       "        vertical-align: middle;\n",
       "    }\n",
       "\n",
       "    .dataframe tbody tr th {\n",
       "        vertical-align: top;\n",
       "    }\n",
       "\n",
       "    .dataframe thead th {\n",
       "        text-align: right;\n",
       "    }\n",
       "</style>\n",
       "<table border=\"1\" class=\"dataframe\">\n",
       "  <thead>\n",
       "    <tr style=\"text-align: right;\">\n",
       "      <th></th>\n",
       "      <th>Season</th>\n",
       "      <th>DayNum</th>\n",
       "      <th>WTeamID</th>\n",
       "      <th>WScore</th>\n",
       "      <th>LTeamID</th>\n",
       "      <th>LScore</th>\n",
       "      <th>WLoc</th>\n",
       "      <th>NumOT</th>\n",
       "      <th>Team1</th>\n",
       "      <th>Team2</th>\n",
       "      <th>target</th>\n",
       "      <th>SeedTeam1</th>\n",
       "      <th>TeamIDTeam1</th>\n",
       "      <th>seed_numTeam1</th>\n",
       "      <th>seed_letterTeam1</th>\n",
       "      <th>SeedTeam2</th>\n",
       "      <th>TeamIDTeam2</th>\n",
       "      <th>seed_numTeam2</th>\n",
       "      <th>seed_letterTeam2</th>\n",
       "    </tr>\n",
       "  </thead>\n",
       "  <tbody>\n",
       "    <tr>\n",
       "      <th>0</th>\n",
       "      <td>1985</td>\n",
       "      <td>136</td>\n",
       "      <td>1116</td>\n",
       "      <td>63</td>\n",
       "      <td>1234</td>\n",
       "      <td>54</td>\n",
       "      <td>N</td>\n",
       "      <td>0</td>\n",
       "      <td>1116</td>\n",
       "      <td>1234</td>\n",
       "      <td>1</td>\n",
       "      <td>X09</td>\n",
       "      <td>1116</td>\n",
       "      <td>9</td>\n",
       "      <td>1</td>\n",
       "      <td>X08</td>\n",
       "      <td>1234</td>\n",
       "      <td>8</td>\n",
       "      <td>1</td>\n",
       "    </tr>\n",
       "    <tr>\n",
       "      <th>1</th>\n",
       "      <td>1985</td>\n",
       "      <td>136</td>\n",
       "      <td>1120</td>\n",
       "      <td>59</td>\n",
       "      <td>1345</td>\n",
       "      <td>58</td>\n",
       "      <td>N</td>\n",
       "      <td>0</td>\n",
       "      <td>1120</td>\n",
       "      <td>1345</td>\n",
       "      <td>1</td>\n",
       "      <td>Z11</td>\n",
       "      <td>1120</td>\n",
       "      <td>11</td>\n",
       "      <td>3</td>\n",
       "      <td>Z06</td>\n",
       "      <td>1345</td>\n",
       "      <td>6</td>\n",
       "      <td>3</td>\n",
       "    </tr>\n",
       "    <tr>\n",
       "      <th>2</th>\n",
       "      <td>1985</td>\n",
       "      <td>136</td>\n",
       "      <td>1207</td>\n",
       "      <td>68</td>\n",
       "      <td>1250</td>\n",
       "      <td>43</td>\n",
       "      <td>N</td>\n",
       "      <td>0</td>\n",
       "      <td>1207</td>\n",
       "      <td>1250</td>\n",
       "      <td>1</td>\n",
       "      <td>W01</td>\n",
       "      <td>1207</td>\n",
       "      <td>1</td>\n",
       "      <td>0</td>\n",
       "      <td>W16</td>\n",
       "      <td>1250</td>\n",
       "      <td>16</td>\n",
       "      <td>0</td>\n",
       "    </tr>\n",
       "  </tbody>\n",
       "</table>\n",
       "</div>"
      ],
      "text/plain": [
       "   Season  DayNum        ...         seed_numTeam2  seed_letterTeam2\n",
       "0    1985     136        ...                     8                 1\n",
       "1    1985     136        ...                     6                 3\n",
       "2    1985     136        ...                    16                 0\n",
       "\n",
       "[3 rows x 19 columns]"
      ]
     },
     "execution_count": 18,
     "metadata": {},
     "output_type": "execute_result"
    }
   ],
   "source": [
    "tcr_.head(3)"
   ]
  },
  {
   "cell_type": "code",
   "execution_count": 19,
   "metadata": {
    "_uuid": "053a0794fc3b8209068ac8e899438885924810b3"
   },
   "outputs": [],
   "source": [
    "features = ['seed_numTeam1', 'seed_letterTeam1', 'seed_numTeam2', 'seed_letterTeam2']\n",
    "X = tcr_[features]\n",
    "y = tcr_['target']"
   ]
  },
  {
   "cell_type": "code",
   "execution_count": 20,
   "metadata": {
    "_uuid": "4f34940606795b4b70dc7d0f925d89eeca7036ee"
   },
   "outputs": [],
   "source": [
    "# split model for train and test\n",
    "X_train, X_test, y_train, y_test = train_test_split(X,y, random_state=7)"
   ]
  },
  {
   "cell_type": "code",
   "execution_count": 21,
   "metadata": {
    "_uuid": "63611bd090e82954097daaa8c62a432939070192"
   },
   "outputs": [],
   "source": [
    "xgb = XGBClassifier() \n",
    "xgb.fit(X_train, y_train) # train\n",
    "preds = xgb.predict_proba(X_test) # use predict_proba or a wrong prediction will result in infinity"
   ]
  },
  {
   "cell_type": "markdown",
   "metadata": {
    "_uuid": "f8762db80d5e1d9a381dfcf1ce6ce00159ed1592"
   },
   "source": [
    "This is where I will test the model to make sure it is doing better than the baseline."
   ]
  },
  {
   "cell_type": "code",
   "execution_count": 22,
   "metadata": {
    "_uuid": "072dddb0ab22b293a08cfbf0dd9b2374a9de70f8"
   },
   "outputs": [
    {
     "name": "stdout",
     "output_type": "stream",
     "text": [
      "The log loss of this simple model is 0.5715 while the baseline (.5 for every team) is 0.6931.\n"
     ]
    }
   ],
   "source": [
    "pred_proba_df = pd.DataFrame(data=preds, columns=['win2', 'win1']) # win1 is target\n",
    "pred_proba_df['baseline'] = .5\n",
    "\n",
    "print(f\"The log loss of this simple model is {log_loss(y_test, pred_proba_df['win1']):.4f} while the baseline\"\n",
    "      f\" (.5 for every team) is {log_loss(y_test, pred_proba_df['baseline']):.4f}.\")"
   ]
  },
  {
   "cell_type": "markdown",
   "metadata": {
    "_uuid": "c5af97205d70d928976b2e0cd4a2d99f5ab3835c"
   },
   "source": [
    "# 5 Submission file\n",
    "I will use the `SampleSubmission` file to make my predictions, I just need to split up the columns to perform the lookups. I will also retrain the model on the full dataset for the predictions."
   ]
  },
  {
   "cell_type": "code",
   "execution_count": 23,
   "metadata": {
    "_uuid": "d0328ca0d778fbc405f093855d5fe21910e10667"
   },
   "outputs": [],
   "source": [
    "# source: https://stackoverflow.com/questions/14745022/how-to-split-a-column-into-two-columns\n",
    "sub['Season'], sub['Team1'], sub['Team2'] = sub['ID'].str.split('_').str\n",
    "sub[['Season', 'Team1', 'Team2']] = sub[['Season', 'Team1', 'Team2']].apply(pd.to_numeric)\n",
    "\n",
    "sub_ = add_features(sub)\n",
    "sub_X = sub_[['seed_numTeam1', 'seed_letterTeam1', 'seed_numTeam2', 'seed_letterTeam2']]\n",
    "\n",
    "xgb = XGBClassifier()\n",
    "xgb.fit(X,y)\n",
    "sub_preds = xgb.predict_proba(sub_X)\n",
    "\n",
    "pred_proba_full_df = pd.DataFrame(data=sub_preds, columns=['win2', 'win1']) # win1 is target\n",
    "sub['Pred'] = pred_proba_full_df['win1']\n",
    "sub[['ID', 'Pred']].to_csv('submission.csv', index=False)"
   ]
  }
 ],
 "metadata": {
  "kernelspec": {
   "display_name": "Python 3",
   "language": "python",
   "name": "python3"
  },
  "language_info": {
   "codemirror_mode": {
    "name": "ipython",
    "version": 3
   },
   "file_extension": ".py",
   "mimetype": "text/x-python",
   "name": "python",
   "nbconvert_exporter": "python",
   "pygments_lexer": "ipython3",
   "version": "3.6.6"
  }
 },
 "nbformat": 4,
 "nbformat_minor": 1
}
